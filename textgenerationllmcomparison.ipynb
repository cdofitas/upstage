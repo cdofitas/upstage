{
 "cells": [
  {
   "cell_type": "code",
   "execution_count": 12,
   "id": "fd6d1005",
   "metadata": {},
   "outputs": [],
   "source": [
    "from transformers import AutoTokenizer, AutoModelForCausalLM, AutoModelForQuestionAnswering, pipeline\n",
    "import torch\n",
    "import time\n"
   ]
  },
  {
   "cell_type": "code",
   "execution_count": 13,
   "id": "7e5fcfc2",
   "metadata": {},
   "outputs": [
    {
     "name": "stderr",
     "output_type": "stream",
     "text": [
      "Some weights of BertForQuestionAnswering were not initialized from the model checkpoint at google-bert/bert-base-uncased and are newly initialized: ['qa_outputs.bias', 'qa_outputs.weight']\n",
      "You should probably TRAIN this model on a down-stream task to be able to use it for predictions and inference.\n",
      "Loading checkpoint shards: 100%|█████████████████████████████████████████████████████████| 4/4 [00:14<00:00,  3.58s/it]\n",
      "Loading checkpoint shards: 100%|█████████████████████████████████████████████████████████| 5/5 [00:13<00:00,  2.71s/it]\n"
     ]
    }
   ],
   "source": [
    "# Load the BERT-based uncased model\n",
    "bert_tokenizer = AutoTokenizer.from_pretrained(\"google-bert/bert-base-uncased\")\n",
    "bert_model = AutoModelForQuestionAnswering.from_pretrained(\"google-bert/bert-base-uncased\")\n",
    "\n",
    "# Load the Llama model\n",
    "llama_model_name = \"meta-llama/Meta-Llama-3.1-8B\"\n",
    "llama_tokenizer = AutoTokenizer.from_pretrained(llama_model_name)\n",
    "llama_model = AutoModelForCausalLM.from_pretrained(llama_model_name)\n",
    "\n",
    "\n",
    "# Load SOLAR model\n",
    "solar_model_name = \"upstage/SOLAR-10.7B-v1.0\"\n",
    "solar_tokenizer = AutoTokenizer.from_pretrained(solar_model_name)\n",
    "solar_model = AutoModelForCausalLM.from_pretrained(solar_model_name)\n"
   ]
  },
  {
   "cell_type": "code",
   "execution_count": 14,
   "id": "0670cfc7",
   "metadata": {},
   "outputs": [],
   "source": [
    "question = \"What is the best soil type for growing cassava?\"\n",
    "\n",
    "context = \"Cassava grows best in well-drained, sandy-loamy soil.\"\n",
    "\n",
    "# Prepare inputs for each model\n",
    "inputs_bert = bert_tokenizer(question, context, return_tensors=\"pt\")\n",
    "\n",
    "# Input for Llama 2 (it's a causal language model, only needs the question)\n",
    "inputs_llama = llama_tokenizer(question, return_tensors=\"pt\")\n",
    "\n",
    "\n",
    "# Input for SOLAR (like Llama, only needs the question)\n",
    "inputs_solar = solar_tokenizer(question, return_tensors=\"pt\")\n",
    "\n"
   ]
  },
  {
   "cell_type": "code",
   "execution_count": 15,
   "id": "6f7545fb",
   "metadata": {},
   "outputs": [
    {
     "name": "stderr",
     "output_type": "stream",
     "text": [
      "Setting `pad_token_id` to `eos_token_id`:128001 for open-end generation.\n",
      "Setting `pad_token_id` to `eos_token_id`:2 for open-end generation.\n"
     ]
    }
   ],
   "source": [
    "# Get the model predictions (use torch.no_grad to avoid unnecessary gradient computations)\n",
    "with torch.no_grad():\n",
    "    # For BERT and AgriBERT (both use question-answering heads)\n",
    "    bert_output = bert_model(**inputs_bert)\n",
    "       \n",
    "    # For Llama and SOLAR (both are causal language models)\n",
    "    llama_output = llama_model.generate(**inputs_llama, max_length=128)\n",
    "    solar_output = solar_model.generate(**inputs_solar, max_length=128)\n",
    "    #llama2_output = llama2_model.generate(**inputs_solar, max_length=128)\n",
    "    \n",
    "# Function to extract the predicted answer from BERT-based models\n",
    "def extract_answer_qa(tokenizer, inputs, outputs):\n",
    "    answer_start = torch.argmax(outputs.start_logits)\n",
    "    answer_end = torch.argmax(outputs.end_logits) + 1\n",
    "    answer = tokenizer.convert_tokens_to_string(\n",
    "        tokenizer.convert_ids_to_tokens(inputs[\"input_ids\"][0][answer_start:answer_end])\n",
    "    )\n",
    "    return answer"
   ]
  },
  {
   "cell_type": "code",
   "execution_count": 16,
   "id": "3c0e8603",
   "metadata": {},
   "outputs": [],
   "source": [
    "import time"
   ]
  },
  {
   "cell_type": "code",
   "execution_count": 17,
   "id": "5336433a",
   "metadata": {},
   "outputs": [
    {
     "name": "stdout",
     "output_type": "stream",
     "text": [
      "BERT Answer: ##ava? [SEP] cassava grows best in well - drained (Time taken: 0.0010 seconds)\n"
     ]
    }
   ],
   "source": [
    "# Extracting answers for BERT and AgriBERT models\n",
    "start_time = time.time()  # Start the timer\n",
    "bert_answer = extract_answer_qa(bert_tokenizer, inputs_bert, bert_output)\n",
    "bert_time = time.time() - start_time\n",
    "\n",
    "print(f\"BERT Answer: {bert_answer} (Time taken: {bert_time:.4f} seconds)\")"
   ]
  },
  {
   "cell_type": "code",
   "execution_count": 18,
   "id": "87fe8567",
   "metadata": {},
   "outputs": [
    {
     "name": "stdout",
     "output_type": "stream",
     "text": [
      "Llama Answer: What is the best soil type for growing cassava? The best soil for cassava is well-drained, fertile, and slightly acidic. Cassava plants prefer a soil pH between 5.5 and 6.5.\n",
      "Cassava is a root crop that is native to South America. It is a staple food in many countries and is used to make flour, bread, and other foods. Cassava is a very versatile crop and can be grown in a variety of soil types.\n",
      "However, the best soil for cassava is well-drained, fertile, and slightly acidic. Cassava plants prefer a soil pH between  (Time taken: 0.0010 seconds)\n"
     ]
    }
   ],
   "source": [
    "# Extracting the generated text from Llama and SOLAR\n",
    "start_time = time.time()  # Start the timer\n",
    "llama_answer = llama_tokenizer.decode(llama_output[0], skip_special_tokens=True)\n",
    "llama_time = time.time() - start_time  # Calculate time taken\n",
    "print(f\"Llama Answer: {llama_answer} (Time taken: {llama_time:.4f} seconds)\")"
   ]
  },
  {
   "cell_type": "code",
   "execution_count": 19,
   "id": "6375f2cd",
   "metadata": {},
   "outputs": [
    {
     "name": "stdout",
     "output_type": "stream",
     "text": [
      "SOLAR Answer: What is the best soil type for growing cassava?\n",
      "What is the best soil type for growing cassava? Cassava is a tropical plant that grows best in well-drained, sandy soils. It can also grow in clay soils, but the soil must be well-drained. Cassava does not like wet soils.\n",
      "What is the best soil type for growing cassava? Cassava is a tropical plant that grows best in well-drained, sandy soils. It can also grow in clay soils, but the soil must be well-drained. Cassava (Time taken: 0.0010 seconds)\n"
     ]
    }
   ],
   "source": [
    "# Timer and extraction for SOLAR\n",
    "start_time = time.time()  # Start the timer\n",
    "solar_answer = solar_tokenizer.decode(solar_output[0], skip_special_tokens=True)\n",
    "solar_time = time.time() - start_time  # Calculate time taken\n",
    "print(f\"SOLAR Answer: {solar_answer} (Time taken: {solar_time:.4f} seconds)\")"
   ]
  },
  {
   "cell_type": "code",
   "execution_count": 20,
   "id": "7bc284ef",
   "metadata": {},
   "outputs": [
    {
     "name": "stdout",
     "output_type": "stream",
     "text": [
      "BERT Answer: ##ava? [SEP] cassava grows best in well - drained\n",
      "Llama Answer: What is the best soil type for growing cassava? The best soil for cassava is well-drained, fertile, and slightly acidic. Cassava plants prefer a soil pH between 5.5 and 6.5.\n",
      "Cassava is a root crop that is native to South America. It is a staple food in many countries and is used to make flour, bread, and other foods. Cassava is a very versatile crop and can be grown in a variety of soil types.\n",
      "However, the best soil for cassava is well-drained, fertile, and slightly acidic. Cassava plants prefer a soil pH between \n",
      "SOLAR Answer: What is the best soil type for growing cassava?\n",
      "What is the best soil type for growing cassava? Cassava is a tropical plant that grows best in well-drained, sandy soils. It can also grow in clay soils, but the soil must be well-drained. Cassava does not like wet soils.\n",
      "What is the best soil type for growing cassava? Cassava is a tropical plant that grows best in well-drained, sandy soils. It can also grow in clay soils, but the soil must be well-drained. Cassava\n",
      "Total time taken by all models: 0.0030 seconds\n"
     ]
    }
   ],
   "source": [
    "# Display the results\n",
    "print(f\"BERT Answer: {bert_answer}\")\n",
    "#print(f\"AgriBERT Answer: {agribert_answer}\")\n",
    "#print(f\"Llama2 Answer: {llama2_answer}\")\n",
    "print(f\"Llama Answer: {llama_answer}\")\n",
    "print(f\"SOLAR Answer: {solar_answer}\")\n",
    "\n",
    "\n",
    "# Display total time taken by all models\n",
    "total_time = bert_time + llama_time + solar_time\n",
    "print(f\"Total time taken by all models: {total_time:.4f} seconds\")"
   ]
  },
  {
   "cell_type": "code",
   "execution_count": 21,
   "id": "8c12675e",
   "metadata": {},
   "outputs": [
    {
     "name": "stdout",
     "output_type": "stream",
     "text": [
      "Ground Truth Similarity: 0.6932431890256054\n",
      "BERT Similarity: 0.8252637818874504\n",
      "LLaMA Similarity: 0.839351073840357\n",
      "SOLAR Similarity: 0.9200447754030694\n",
      "SOLAR provided the closest answer.\n"
     ]
    }
   ],
   "source": [
    "import numpy as np\n",
    "from openai import OpenAI\n",
    "\n",
    "\n",
    "# Initialize the client (using your OpenAI key for SOLAR embeddings)\n",
    "client = OpenAI(\n",
    "    api_key=\"up_SXUJqEaZaGAxC9NCoottzJc8IvPuK\",\n",
    "    base_url=\"https://api.upstage.ai/v1/solar\"\n",
    ")\n",
    "\n",
    "# Define the ground truth\n",
    "ground_truth = \"Well-drained sandy loam. The best soil type for growing cassava is well-drained sandy loam\"\n",
    "\n",
    "# Define the answers from BERT, LLaMA, and SOLAR\n",
    "bert_answer = \"growing cassava? [SEP] cassava grows best in well - drained, sandy\"\n",
    "llama_answer = \"Cassava is a tropical root crop that is grown in many parts of the world. It is a staple food for millions of people, and it is also used as a source of animal feed and industrial starch. Cassava is a very versatile crop, and it can be grown in a variety of soil types. However, some soil types are better suited for growing cassava than others. The best soil type for growing cassava is a sandy loam. \"\n",
    "solar_answer = \"What is the best soil type for growing cassava? Cassava is a tropical plant that grows best in well-drained, sandy soils. It can also grow in clay soils, but the soil must be well-drained. Cassava does not like wet soils.Cassava is a tropical plant that grows best in well-drained, sandy soils. It can also grow in clay soils, but the soil must be well-drained.\"\n",
    "\n",
    "# Function to compute embeddings\n",
    "def get_embedding(text, model_name):\n",
    "    result = client.embeddings.create(\n",
    "        model=model_name,\n",
    "        input=text\n",
    "    ).data[0].embedding\n",
    "    return np.array(result)\n",
    "\n",
    "# Compute embeddings for the query and each answer\n",
    "query_embedding = get_embedding(\"What is the best soil type for growing cassava?\", \"solar-embedding-1-large-query\")\n",
    "ground_truth_embedding = get_embedding(ground_truth, \"solar-embedding-1-large-passage\")\n",
    "bert_embedding = get_embedding(bert_answer, \"solar-embedding-1-large-passage\")\n",
    "llama_embedding = get_embedding(llama_answer, \"solar-embedding-1-large-passage\")\n",
    "solar_embedding = get_embedding(solar_answer, \"solar-embedding-1-large-passage\")\n",
    "\n",
    "# Function to compute cosine similarity\n",
    "def compute_similarity(embedding1, embedding2):\n",
    "    return np.dot(embedding1, embedding2) / (np.linalg.norm(embedding1) * np.linalg.norm(embedding2))\n",
    "\n",
    "# Calculate similarity between the query and the ground truth\n",
    "ground_truth_similarity = compute_similarity(query_embedding, ground_truth_embedding)\n",
    "\n",
    "# Calculate similarity between the answers and the ground truth\n",
    "bert_similarity = compute_similarity(ground_truth_embedding, bert_embedding)\n",
    "llama_similarity = compute_similarity(ground_truth_embedding, llama_embedding)\n",
    "solar_similarity = compute_similarity(ground_truth_embedding, solar_embedding)\n",
    "\n",
    "# Print the similarity results\n",
    "print(f\"Ground Truth Similarity: {ground_truth_similarity}\")\n",
    "print(f\"BERT Similarity: {bert_similarity}\")\n",
    "print(f\"LLaMA Similarity: {llama_similarity}\")\n",
    "print(f\"SOLAR Similarity: {solar_similarity}\")\n",
    "\n",
    "# Determine which model provides the best answer\n",
    "best_model = max(bert_similarity, llama_similarity, solar_similarity)\n",
    "if best_model == bert_similarity:\n",
    "    print(\"BERT provided the closest answer.\")\n",
    "elif best_model == llama_similarity:\n",
    "    print(\"LLaMA provided the closest answer.\")\n",
    "else:\n",
    "    print(\"SOLAR provided the closest answer.\")"
   ]
  },
  {
   "cell_type": "code",
   "execution_count": 22,
   "id": "6a3405a8",
   "metadata": {},
   "outputs": [
    {
     "name": "stdout",
     "output_type": "stream",
     "text": [
      "Ground Truth Similarity: 0.6932431890256054\n",
      "BERT Similarity: 0.8252637818874504\n",
      "LLaMA Similarity: 0.839351073840357\n",
      "SOLAR Similarity: 0.9200447754030694\n",
      "SOLAR provided the closest answer.\n"
     ]
    }
   ],
   "source": [
    "import numpy as np\n",
    "from openai import OpenAI\n",
    "from sklearn.feature_extraction.text import TfidfVectorizer\n",
    "\n",
    "# Initialize the client (using your OpenAI key for SOLAR embeddings)\n",
    "client = OpenAI(\n",
    "    api_key=\"up_SXUJqEaZaGAxC9NCoottzJc8IvPuK\",\n",
    "    base_url=\"https://api.upstage.ai/v1/solar\"\n",
    ")\n",
    "\n",
    "# Define the ground truth\n",
    "ground_truth = \"Well-drained sandy loam. The best soil type for growing cassava is well-drained sandy loam\"\n",
    "\n",
    "# Define the answers from BERT, LLaMA, and SOLAR\n",
    "bert_answer = \"growing cassava? [SEP] cassava grows best in well - drained, sandy\"\n",
    "llama_answer = \"Cassava is a tropical root crop that is grown in many parts of the world. It is a staple food for millions of people, and it is also used as a source of animal feed and industrial starch. Cassava is a very versatile crop, and it can be grown in a variety of soil types. However, some soil types are better suited for growing cassava than others. The best soil type for growing cassava is a sandy loam. \"\n",
    "solar_answer = \"What is the best soil type for growing cassava? Cassava is a tropical plant that grows best in well-drained, sandy soils. It can also grow in clay soils, but the soil must be well-drained. Cassava does not like wet soils.Cassava is a tropical plant that grows best in well-drained, sandy soils. It can also grow in clay soils, but the soil must be well-drained.\"\n",
    "\n",
    "# Function to compute embeddings\n",
    "def get_embedding(text, model_name):\n",
    "    result = client.embeddings.create(\n",
    "        model=model_name,\n",
    "        input=text\n",
    "    ).data[0].embedding\n",
    "    return np.array(result)\n",
    "\n",
    "# Compute embeddings for the query and each answer\n",
    "query_embedding = get_embedding(\"What is the best soil type for growing cassava?\", \"solar-embedding-1-large-query\")\n",
    "ground_truth_embedding = get_embedding(ground_truth, \"solar-embedding-1-large-passage\")\n",
    "bert_embedding = get_embedding(bert_answer, \"solar-embedding-1-large-passage\")\n",
    "llama_embedding = get_embedding(llama_answer, \"solar-embedding-1-large-passage\")\n",
    "solar_embedding = get_embedding(solar_answer, \"solar-embedding-1-large-passage\")\n",
    "\n",
    "# Function to compute cosine similarity\n",
    "def compute_similarity(embedding1, embedding2):\n",
    "    return np.dot(embedding1, embedding2) / (np.linalg.norm(embedding1) * np.linalg.norm(embedding2))\n",
    "\n",
    "# Calculate similarity between the query and the ground truth\n",
    "ground_truth_similarity = compute_similarity(query_embedding, ground_truth_embedding)\n",
    "\n",
    "# Calculate similarity between the answers and the ground truth\n",
    "bert_similarity = compute_similarity(ground_truth_embedding, bert_embedding)\n",
    "llama_similarity = compute_similarity(ground_truth_embedding, llama_embedding)\n",
    "solar_similarity = compute_similarity(ground_truth_embedding, solar_embedding)\n",
    "\n",
    "# Print the similarity results\n",
    "print(f\"Ground Truth Similarity: {ground_truth_similarity}\")\n",
    "print(f\"BERT Similarity: {bert_similarity}\")\n",
    "print(f\"LLaMA Similarity: {llama_similarity}\")\n",
    "print(f\"SOLAR Similarity: {solar_similarity}\")\n",
    "\n",
    "# Determine which model provides the best answer\n",
    "best_model = max(bert_similarity, llama_similarity, solar_similarity)\n",
    "if best_model == bert_similarity:\n",
    "    print(\"BERT provided the closest answer.\")\n",
    "elif best_model == llama_similarity:\n",
    "    print(\"LLaMA provided the closest answer.\")\n",
    "else:\n",
    "    print(\"SOLAR provided the closest answer.\")"
   ]
  },
  {
   "cell_type": "code",
   "execution_count": 73,
   "id": "09347595",
   "metadata": {},
   "outputs": [
    {
     "name": "stdout",
     "output_type": "stream",
     "text": [
      "Similarity between query and document: 0.6706783327422627\n"
     ]
    }
   ],
   "source": []
  },
  {
   "cell_type": "code",
   "execution_count": null,
   "id": "37ec9382",
   "metadata": {},
   "outputs": [],
   "source": []
  }
 ],
 "metadata": {
  "kernelspec": {
   "display_name": "solarllm",
   "language": "python",
   "name": "solarllm"
  },
  "language_info": {
   "codemirror_mode": {
    "name": "ipython",
    "version": 3
   },
   "file_extension": ".py",
   "mimetype": "text/x-python",
   "name": "python",
   "nbconvert_exporter": "python",
   "pygments_lexer": "ipython3",
   "version": "3.11.9"
  }
 },
 "nbformat": 4,
 "nbformat_minor": 5
}
